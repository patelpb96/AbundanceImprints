{
 "cells": [
  {
   "cell_type": "code",
   "execution_count": null,
   "metadata": {},
   "outputs": [],
   "source": [
    "import numpy as np\n",
    "import gizmo_analysis as gizmo\n",
    "import utilities as ut\n",
    "from matplotlib import pyplot as plt\n",
    "import astropy\n",
    "from IPython.display import clear_output\n",
    "import matplotlib.ticker as ticker\n",
    "\n",
    "from mpl_toolkits.axes_grid1.inset_locator import inset_axes\n",
    "\n",
    "from scipy import optimize, stats\n",
    "import emcee\n",
    "import corner\n",
    "\n",
    "plt.rcParams[\"font.family\"] = \"Serif\"\n",
    "plt.rcParams.update({'font.size': 10, 'font.weight' : 100})\n",
    "\n",
    "from __future__ import print_function\n",
    "from ipywidgets import interact, interactive, fixed, interact_manual\n",
    "import ipywidgets as widgets\n",
    "from IPython.display import display\n",
    "\n",
    "import imageio"
   ]
  },
  {
   "cell_type": "code",
   "execution_count": 1,
   "metadata": {},
   "outputs": [],
   "source": [
    "# Dictionary with galaxy name and corresponding local directory containing the HDF5 - for ease of access. \n",
    "\n",
    "dirs = { 'm11b_hires' : 'D:\\Data\\m11b_res260' , 'm11q' : 'D:\\Data\\m11q_res880', \n",
    "       'm11h' : 'D:\\Data\\m11h_res880', 'm10v' : 'D:\\Data\\m10v_res250',\n",
    "       'm11d' : 'D:\\Data\\m11d_res7100', 'm12i' : 'D:\\Data\\m12i_res7100',\n",
    "       'm12i_low_res' : 'D:\\Data\\m12i_res57000', 'm11e' : 'D:\\Data\\m11e_res7100',\n",
    "       'm11i' : 'D:\\Data\\m11i_res7100', 'm10q' : 'D:\\Data\\m10q_res250',\n",
    "       'm09' : 'D:\\Data\\m09_res30', 'm11b_cr' : 'D:\\Data\\m11b_res2100_v2', 'm11b' : 'D:\\Data\\m11bfin'}\n",
    "\n",
    "\n",
    "# Function below loads the snapshot 600 from the directory that it has been assigned to. Simply use the galaxy's name\n",
    "# in lowercase to get your data.\n",
    "\n",
    "\n",
    "def load(galaxy):\n",
    "    \n",
    "    print('LOADING GALAXY: ' + galaxy + \" in \" + dirs[galaxy])\n",
    "    \n",
    "    part = gizmo.io.Read.read_snapshots(['star'], 'index', 600, assign_hosts = 'mass', assign_hosts_rotation=True,\n",
    "                                        simulation_name=str(galaxy), simulation_directory=dirs[galaxy], assign_formation_coordinates = True)\n",
    "    \n",
    "    species='star'\n",
    "    mass = part[species].prop('mass')\n",
    "    age = part[species].prop('age')\n",
    "    feh  = part[species].prop('metallicity.fe')\n",
    "    sife = part[species].prop('metallicity.si - metallicity.fe')\n",
    "    cafe = part[species].prop('metallicity.ca - metallicity.fe') \n",
    "    ofe = part[species].prop('metallicity.o - metallicity.fe') \n",
    "    afe = part[species].prop('metallicity.alpha - metallicity.fe') \n",
    "    \n",
    "    Rxy = part[species].prop('host.distance.principal.cylindrical')[:,0]\n",
    "    z = part[species].prop('host.distance.principal.cylindrical')[:,1]\n",
    "    mgfe = part[species].prop('metallicity.mg - metallicity.fe')\n",
    "    \n",
    "    x = part[species].prop('host.distance.principal')[:,0]\n",
    "    y = part[species].prop('host.distance.principal')[:,1]\n",
    "    z = part[species].prop('host.distance.principal')[:,2]\n",
    "    \n",
    "    R = part[species].prop('host.distance.principal.cylindrical')[:,0]\n",
    "    phi = part[species].prop('host.distance.principal.cylindrical')[:,2]*(180.0/np.pi)\n",
    "    form = part[species].prop('form.host.distance.principal.spherical')[:,0]\n",
    "\n",
    "    return part, mass, age, feh, sife, cafe, ofe, z, mgfe, x, y, R, phi, form"
   ]
  },
  {
   "cell_type": "code",
   "execution_count": 2,
   "metadata": {},
   "outputs": [
    {
     "name": "stdout",
     "output_type": "stream",
     "text": [
      "LOADING GALAXY: m11d in D:\\Data\\m11d_res7100\n"
     ]
    },
    {
     "ename": "NameError",
     "evalue": "name 'gizmo' is not defined",
     "output_type": "error",
     "traceback": [
      "\u001b[1;31m---------------------------------------------------------------------------\u001b[0m",
      "\u001b[1;31mNameError\u001b[0m                                 Traceback (most recent call last)",
      "\u001b[1;32m~\\AppData\\Local\\Temp/ipykernel_11576/2483176812.py\u001b[0m in \u001b[0;36m<module>\u001b[1;34m\u001b[0m\n\u001b[0;32m     20\u001b[0m \u001b[1;33m\u001b[0m\u001b[0m\n\u001b[0;32m     21\u001b[0m \u001b[1;32mfor\u001b[0m \u001b[0mi\u001b[0m \u001b[1;32min\u001b[0m \u001b[0mrange\u001b[0m\u001b[1;33m(\u001b[0m\u001b[1;36m0\u001b[0m\u001b[1;33m,\u001b[0m\u001b[1;36m8\u001b[0m\u001b[1;33m)\u001b[0m\u001b[1;33m:\u001b[0m\u001b[1;33m\u001b[0m\u001b[1;33m\u001b[0m\u001b[0m\n\u001b[1;32m---> 22\u001b[1;33m     \u001b[0mpart\u001b[0m\u001b[1;33m,\u001b[0m \u001b[0mmass\u001b[0m \u001b[1;33m,\u001b[0m \u001b[0mage\u001b[0m\u001b[1;33m,\u001b[0m \u001b[0mfeh\u001b[0m\u001b[1;33m,\u001b[0m \u001b[0msife\u001b[0m\u001b[1;33m,\u001b[0m \u001b[0mcafe\u001b[0m\u001b[1;33m,\u001b[0m \u001b[0mofe\u001b[0m\u001b[1;33m,\u001b[0m \u001b[0mz\u001b[0m\u001b[1;33m,\u001b[0m \u001b[0mmgfe\u001b[0m\u001b[1;33m,\u001b[0m \u001b[0mx\u001b[0m\u001b[1;33m,\u001b[0m \u001b[0my\u001b[0m\u001b[1;33m,\u001b[0m \u001b[0mR\u001b[0m\u001b[1;33m,\u001b[0m \u001b[0mphi\u001b[0m\u001b[1;33m,\u001b[0m \u001b[0mform\u001b[0m \u001b[1;33m=\u001b[0m \u001b[0mload\u001b[0m\u001b[1;33m(\u001b[0m\u001b[0mnames\u001b[0m\u001b[1;33m[\u001b[0m\u001b[0mi\u001b[0m\u001b[1;33m]\u001b[0m\u001b[1;33m)\u001b[0m\u001b[1;33m\u001b[0m\u001b[1;33m\u001b[0m\u001b[0m\n\u001b[0m\u001b[0;32m     23\u001b[0m     \u001b[0mparts\u001b[0m\u001b[1;33m.\u001b[0m\u001b[0mappend\u001b[0m\u001b[1;33m(\u001b[0m\u001b[0mpart\u001b[0m\u001b[1;33m)\u001b[0m\u001b[1;33m,\u001b[0m \u001b[0mmasses\u001b[0m\u001b[1;33m.\u001b[0m\u001b[0mappend\u001b[0m\u001b[1;33m(\u001b[0m\u001b[0mmass\u001b[0m\u001b[1;33m)\u001b[0m\u001b[1;33m,\u001b[0m \u001b[0mages\u001b[0m\u001b[1;33m.\u001b[0m\u001b[0mappend\u001b[0m\u001b[1;33m(\u001b[0m\u001b[0mage\u001b[0m\u001b[1;33m)\u001b[0m\u001b[1;33m,\u001b[0m \u001b[0mfehscs\u001b[0m\u001b[1;33m.\u001b[0m\u001b[0mappend\u001b[0m\u001b[1;33m(\u001b[0m\u001b[0mfeh\u001b[0m\u001b[1;33m)\u001b[0m\u001b[1;33m,\u001b[0m \u001b[0msifes\u001b[0m\u001b[1;33m.\u001b[0m\u001b[0mappend\u001b[0m\u001b[1;33m(\u001b[0m\u001b[0msife\u001b[0m\u001b[1;33m)\u001b[0m\u001b[1;33m,\u001b[0m \u001b[0mcafes\u001b[0m\u001b[1;33m.\u001b[0m\u001b[0mappend\u001b[0m\u001b[1;33m(\u001b[0m\u001b[0mcafe\u001b[0m\u001b[1;33m)\u001b[0m\u001b[1;33m,\u001b[0m\u001b[1;33m\u001b[0m\u001b[1;33m\u001b[0m\u001b[0m\n\u001b[0;32m     24\u001b[0m     \u001b[0mofescs\u001b[0m\u001b[1;33m.\u001b[0m\u001b[0mappend\u001b[0m\u001b[1;33m(\u001b[0m\u001b[0mofe\u001b[0m\u001b[1;33m)\u001b[0m\u001b[1;33m,\u001b[0m \u001b[0mzs\u001b[0m\u001b[1;33m.\u001b[0m\u001b[0mappend\u001b[0m\u001b[1;33m(\u001b[0m\u001b[0mz\u001b[0m\u001b[1;33m)\u001b[0m\u001b[1;33m,\u001b[0m \u001b[0mmgfes\u001b[0m\u001b[1;33m.\u001b[0m\u001b[0mappend\u001b[0m\u001b[1;33m(\u001b[0m\u001b[0mmgfe\u001b[0m\u001b[1;33m)\u001b[0m\u001b[1;33m,\u001b[0m \u001b[0mxs\u001b[0m\u001b[1;33m.\u001b[0m\u001b[0mappend\u001b[0m\u001b[1;33m(\u001b[0m\u001b[0mx\u001b[0m\u001b[1;33m)\u001b[0m\u001b[1;33m,\u001b[0m \u001b[0mys\u001b[0m\u001b[1;33m.\u001b[0m\u001b[0mappend\u001b[0m\u001b[1;33m(\u001b[0m\u001b[0my\u001b[0m\u001b[1;33m)\u001b[0m\u001b[1;33m,\u001b[0m \u001b[0mRs\u001b[0m\u001b[1;33m.\u001b[0m\u001b[0mappend\u001b[0m\u001b[1;33m(\u001b[0m\u001b[0mR\u001b[0m\u001b[1;33m)\u001b[0m\u001b[1;33m,\u001b[0m \u001b[0mphis\u001b[0m\u001b[1;33m.\u001b[0m\u001b[0mappend\u001b[0m\u001b[1;33m(\u001b[0m\u001b[0mphi\u001b[0m\u001b[1;33m)\u001b[0m\u001b[1;33m,\u001b[0m\u001b[1;33m\u001b[0m\u001b[1;33m\u001b[0m\u001b[0m\n",
      "\u001b[1;32m~\\AppData\\Local\\Temp/ipykernel_11576/1686158721.py\u001b[0m in \u001b[0;36mload\u001b[1;34m(galaxy)\u001b[0m\n\u001b[0;32m     17\u001b[0m     \u001b[0mprint\u001b[0m\u001b[1;33m(\u001b[0m\u001b[1;34m'LOADING GALAXY: '\u001b[0m \u001b[1;33m+\u001b[0m \u001b[0mgalaxy\u001b[0m \u001b[1;33m+\u001b[0m \u001b[1;34m\" in \"\u001b[0m \u001b[1;33m+\u001b[0m \u001b[0mdirs\u001b[0m\u001b[1;33m[\u001b[0m\u001b[0mgalaxy\u001b[0m\u001b[1;33m]\u001b[0m\u001b[1;33m)\u001b[0m\u001b[1;33m\u001b[0m\u001b[1;33m\u001b[0m\u001b[0m\n\u001b[0;32m     18\u001b[0m \u001b[1;33m\u001b[0m\u001b[0m\n\u001b[1;32m---> 19\u001b[1;33m     part = gizmo.io.Read.read_snapshots(['star'], 'index', 600, assign_hosts = 'mass', assign_hosts_rotation=True,\n\u001b[0m\u001b[0;32m     20\u001b[0m                                         simulation_name=str(galaxy), simulation_directory=dirs[galaxy], assign_formation_coordinates = True)\n\u001b[0;32m     21\u001b[0m \u001b[1;33m\u001b[0m\u001b[0m\n",
      "\u001b[1;31mNameError\u001b[0m: name 'gizmo' is not defined"
     ]
    }
   ],
   "source": [
    "parts = [] #empty array that will contain part files\n",
    "masses =[]\n",
    "ages = [] # ... ages\n",
    "sifes = []\n",
    "cafes =[]\n",
    "fehscs = [] #empty array that will contain [Fe/H] values for each galaxy\n",
    "ofescs = [] #empty array that will contain [O/Fe] values for each galaxy\n",
    "zs = []\n",
    "mgfes = []\n",
    "xs = []\n",
    "ys = []\n",
    "Rs = []\n",
    "phis = []\n",
    "forms = []\n",
    "\n",
    "names = ['m11b', 'm11q', 'm11h', 'm11i', 'm11d', 'm11e', 'm10v', 'm10q'] #names of each galaxy. will be iterated over to\n",
    "names = ['m11d', 'm11i', 'm11e','m11q', 'm10v', 'm11b', 'm11h', 'm10q']\n",
    "names = ['m11d', 'm11e', 'm11i', 'm11q', 'm11h', 'm11b', 'm10q', 'm10v'] # ordered by stellar mass\n",
    "# access the dictionary\n",
    "\n",
    "for i in range(0,8):\n",
    "    part, mass , age, feh, sife, cafe, ofe, z, mgfe, x, y, R, phi, form = load(names[i])\n",
    "    parts.append(part), masses.append(mass), ages.append(age), fehscs.append(feh), sifes.append(sife), cafes.append(cafe),\n",
    "    ofescs.append(ofe), zs.append(z), mgfes.append(mgfe), xs.append(x), ys.append(y), Rs.append(R), phis.append(phi), \n",
    "    forms.append(form)\n",
    "    clear_output()\n",
    "    \n",
    "print(str(names) + \" loaded!\")"
   ]
  },
  {
   "cell_type": "code",
   "execution_count": 26,
   "metadata": {},
   "outputs": [
    {
     "name": "stdout",
     "output_type": "stream",
     "text": [
      "10234\n",
      "10234\n",
      "len: 0\n",
      "%In Situ:100.0\n",
      "%Ex Situ:0.0\n",
      "3.2455783\n"
     ]
    }
   ],
   "source": [
    "#names = ['m11d', 'm11e', 'm11i', 'm11q', 'm11h', 'm11b', 'm10q']\n",
    "names = ['m10v']\n",
    "ins = []\n",
    "exs = []\n",
    "\n",
    "for i in range(0, len(names)):\n",
    "    part, mass , age, feh, sife, cafe, ofe, z, mgfe, x, y, R, phi, form = load(str(names[i]))\n",
    "#plt.figure(figsize = (8,4))\n",
    "#plt.hist(form, bins = 50)\n",
    "    clear_output()\n",
    "\n",
    "#print(len(form[np.where( (R < 30) & (form > 30))]))\n",
    "    print(len(R))\n",
    "    print(len(form))\n",
    "    bar = 10\n",
    "    insitu = (len(form[np.where((R < 10) & (form < bar))])/len(form[np.where(R < 10)]))\n",
    "    exsitu = (len(form[np.where((R < 10) & (form > bar))])/len(form[np.where(R < 10)]))\n",
    "    print(\"len: \" + str(len(form[np.where((R < 10) & (form > 10))])))\n",
    "\n",
    "    ins.append(insitu)\n",
    "    exs.append(exsitu)\n",
    "    \n",
    "    print(\"%In Situ:\" + str(100*insitu))\n",
    "    print(\"%Ex Situ:\" + str(100*exsitu))\n",
    "\n",
    "    np.average(feh[np.where(R < 5)])\n",
    "    \n",
    "    print(np.max(form[np.where(R < 100)]))"
   ]
  },
  {
   "cell_type": "code",
   "execution_count": 27,
   "metadata": {},
   "outputs": [
    {
     "name": "stdout",
     "output_type": "stream",
     "text": [
      "m10v\n",
      "%In Situ:100.0\n",
      "%Ex Situ:0.0\n",
      "---------------------------\n"
     ]
    }
   ],
   "source": [
    "for i in range(0, len(names)):\n",
    "    print(names[i])\n",
    "    print(\"%In Situ:\" + str(100*ins[i]))\n",
    "    print(\"%Ex Situ:\" + str(100*exs[i]))\n",
    "    print(\"---------------------------\")\n",
    "    "
   ]
  },
  {
   "cell_type": "code",
   "execution_count": 29,
   "metadata": {},
   "outputs": [
    {
     "data": {
      "image/png": "[encoded data removed]",
      "text/plain": [
       "<Figure size 576x288 with 1 Axes>"
      ]
     },
     "metadata": {},
     "output_type": "display_data"
    }
   ],
   "source": [
    "plt.figure(figsize = (8,4))\n",
    "plt.hist(form, bins = 50)\n",
    "plt.show()"
   ]
  },
  {
   "cell_type": "code",
   "execution_count": null,
   "metadata": {},
   "outputs": [],
   "source": [
    "plt.figure(figsize = (10,10))\n",
    "plt.scatter(feh,mgfe, color = 'black', s = 0.01)\n",
    "plt.scatter(feh[np.where( (R < 30) & (form > 10))], mgfe[np.where( (R < 30) & (form > 10))], color = 'red', \n",
    "            s = 0.01, alpha = 0.4)\n",
    "plt.title(\"Stars That Formed outside of 10 kpc in red\")"
   ]
  },
  {
   "cell_type": "code",
   "execution_count": null,
   "metadata": {},
   "outputs": [],
   "source": [
    "for i in range(0,8):\n",
    "    print(str(names[i]) + \": \" + str(np.sum(masses[i])))"
   ]
  },
  {
   "cell_type": "code",
   "execution_count": null,
   "metadata": {},
   "outputs": [],
   "source": [
    "# Creates a figure with 9 subplots.\n",
    "fig, ((ax1,ax2,ax3,ax4),(ax5,ax6,ax7,ax8)) = plt.subplots(nrows=2, ncols=4, sharey=True, sharex = True,\n",
    "                           figsize=(16,8))\n",
    "\n",
    "axes = [ax1,ax2,ax3,ax4,ax5,ax6,ax7,ax8] #initializing the subplots\n",
    "plots = [] #this will be used for the embedded colorbars if creating hist2d\n",
    "\n",
    "for i in range(0,8):\n",
    "    #Setting up the hist 2ds\n",
    "    ind = np.where(Rs[i] < 20)\n",
    "    plots.append(axes[i].hist2d(fehscs[i][ind],mgfes[i][ind], bins = 150, cmap = 'Greys', range = [[-3.5,0], [-0.1,0.5]])) \n",
    "    \n",
    "    # we clear this plot because really, we just need the hist2d data for certain features down the road.\n",
    "    # e.g. modifying xtick/ytick axes labels requires access to plot indices, most easily done with hist2d.\n",
    "    \n",
    "    axes[i].clear()\n",
    "    \n",
    "    axes[i].set_ylim(-0.2,0.47)\n",
    "    axes[i].set_xlim(-3.5,-0.05) #set to -3.9, -0.1 in order to make xticks easier to edit. Otherwise too many.\n",
    "    \n",
    "    # OLD VALUES BELOW\n",
    "    #axes[i].set_ylim(-0.1,0.65)\n",
    "    #axes[i].set_xlim(-3.45,-0.1\n",
    "    \n",
    "    \n",
    "    #actual plotting begins\n",
    "    axes[i].scatter(fehscs[i][ind], mgfes[i][ind], alpha = 0.02, s = 0.05, color = 'black')\n",
    "    if(i == 5):\n",
    "        axes[i].scatter(fehscs[i][ind], mgfes[i][ind], alpha = 0.1, s = 0.05, color = 'black')\n",
    "   \n",
    "    \n",
    "    ## Because m10s have way fewer stars, they don't show up for the same setting in a scatter plot.\n",
    "    if((i == 6) or (i == 7)):\n",
    "        axes[i].scatter(fehscs[i][ind], mgfes[i][ind], alpha = 0.1, s = 1, color = 'black') \n",
    "    \n",
    "    #manually set the place in which to put the names of each galaxy\n",
    "    axes[i].text(-3.4,-.12,names[i], size = 15, weight = 'bold')\n",
    "    if(i < 3):\n",
    "        axes[i].text(-3.4,-.18, \n",
    "                 r'M$_{\\star}$= ' + str(round(np.sum(masses[i])/1e9, 2)) + r\"$\\times$10$^9$ M$_{\\odot}$\", size = 13)\n",
    "    if((i > 2) & (i < 5)):\n",
    "        axes[i].text(-3.4,-.18, \n",
    "                 r'M$_{\\star}$= ' + str(round(np.sum(masses[i])/1e8, 2)) + r\"$\\times$10$^8$ M$_{\\odot}$\", size = 13)\n",
    "    if((i == 5)):\n",
    "        axes[i].text(-3.4,-.18, \n",
    "                 r'M$_{\\star}$= ' + str(round(np.sum(masses[i])/1e7, 2)) + r\"$\\times$10$^7$ M$_{\\odot}$\", size = 13)\n",
    "    if((i > 5) & (i < 8)):\n",
    "        axes[i].text(-3.4,-.18, \n",
    "                 r'M$_{\\star}$= ' + str(round(np.sum(masses[i])/1e6, 2)) + r\"$\\times$10$^6$ M$_{\\odot}$\", size = 13)\n",
    "    #axes[i].text(-3.85, 0.12, \"n = \" + str(len(fehscs[i])), size = 12)\n",
    "    \n",
    "    #gridlines to make seeing easier\n",
    "    axes[i].grid(linestyle = '-.', alpha = 0.2)\n",
    "    if(i >= 5): # Adjusts the bottom axis to not have overlapping ticks\n",
    "        xticks = axes[i].xaxis.get_majorticklabels()\n",
    "        #plt.setp(xticks[0], visible=False)\n",
    "        #plt.setp(xticks[8], visible = False)\n",
    "\n",
    "# manually setting axis labels for whole plot\n",
    "fig.text(0.07,0.5,\"[Mg/Fe] (dex)\", va = 'center', size = 25, rotation = 90)\n",
    "fig.text(0.5, 0.05,\"[Fe/H] (dex)\", ha = 'center', size = 25)\n",
    "\n",
    "# getting rid of whitespace\n",
    "plt.subplots_adjust(wspace=0, hspace=0)\n",
    "\n",
    "#for j in range(0,len(axes)):\n",
    "    \n",
    "    #if(j == 0):\n",
    "        #cbaxes = inset_axes(axes[j], width=\"5%\", height=\"50%\", loc=2) # colorbars\n",
    "        #plt.colorbar(plots[j][3], cax=cbaxes, ticks = [], drawedges = False) # TICKS ARE DECIDED HERE\n",
    "    #print(str(names[j]) + ' ' + str(len(fehscs[j])))\n",
    "    #print(np.max(plots[j][0]))\n",
    "    \n",
    "#plt.text(0.1,0.02,\"0\", size = 20) # fake normalized axes\n",
    "#plt.text(0.1,0.85,\"1\", size = 20, color = 'white') # Same \n",
    "\n",
    "\n",
    "#plt.savefig('6gals_whole_scatter_2.pdf', bbox_inches='tight')\n",
    "plt.savefig('8gals_whole_scatter_final_stmass_rr.png', dpi = 150, bbox_inches='tight')\n",
    "\n",
    "plt.show()"
   ]
  },
  {
   "cell_type": "code",
   "execution_count": null,
   "metadata": {},
   "outputs": [],
   "source": [
    "tforms = []\n",
    "\n",
    "plt.figure(figsize = (10,10))\n",
    "\n",
    "for n in range(0, len(ages)):\n",
    "    tforms.append(fehscs[n])\n",
    "    \n",
    "#agers = [0.5,1.5,2.5,3.5,4.5,5.5,6.5,7.5,8.5,9.5,10.5,11.5,12.5,13.5,14.5]\n",
    "agers = [0.25,1.25,2.25,3.25,4.25,5.25,6.25,7.25,8.25,9.25,10.25,11.25,12.25,13.25,14.25]\n",
    "agers = [-3.75,-3.5,-3.25,-3.,-2.75,-2.5,-2.25,-2.,-1.75,-1.5,-1.25,-1.,-.75,-.5,-.25]\n",
    "\n",
    "means = [[],[],[],[],[],[],[],[]]\n",
    "stdevs = [[],[],[],[],[],[],[],[]]\n",
    "\n",
    "print(\"Agers..\")\n",
    "\n",
    "for n in range(0, len(ages)):\n",
    "    for i in range(0, len(agers)-1):\n",
    "        ind = np.where((tforms[n] > agers[i]) & (tforms[n] < agers[i+1]))\n",
    "        if(len(mgfes[n][ind]) > 100):\n",
    "            means[n].append(np.mean(mgfes[n][ind]))\n",
    "            stdevs[n].append(np.std(mgfes[n][ind]))\n",
    "        if(len(mgfes[n]) < 101):\n",
    "            means[n].append(means[n-1])\n",
    "            stdevs[n].append(stdevs[n-1])\n",
    "            \n",
    "means = np.array(means)\n",
    "agers = np.array(agers)\n",
    "\n",
    "from random import randint\n",
    "colors = []\n",
    "c2 = []\n",
    "for i in range(8):\n",
    "    colors.append('#%06X' % randint(0, 0xFFFFFF))\n",
    "    c2.append('#%06X' % randint(0, 0xFFFFFF))\n",
    "\n",
    "    \n",
    "for n in range(0,8):\n",
    "    if(n <= 4):\n",
    "        loi = len(stdevs[n])\n",
    "        plt.plot(agers[1:loi], stdevs[n][1:loi], color = colors[n], lw = 1, label = str(names[n]))  \n",
    "        \n",
    "plt.plot(agers[1:len(stdevs[5])], stdevs[5][1:len(stdevs[5])], color = 'black', lw = 4, ls = \"dashdot\", label = str(names[5]))\n",
    "plt.plot(agers[1:len(stdevs[6])], stdevs[6][1:len(stdevs[6])], color = 'red', lw = 4, ls = \"dashdot\", label = str(names[6]))\n",
    "plt.plot(agers[1:len(stdevs[7])], stdevs[7][1:len(stdevs[7])], color = 'b', lw = 4, ls = \"dashdot\", label = str(names[7]))\n",
    "\n",
    "plt.ylim(0,0.5)\n",
    "plt.legend()\n",
    "plt.ylabel(r'$\\sigma$[Mg/Fe]', size = 15)\n",
    "plt.xlabel(r\"[Fe/H]\", size = 15)\n",
    "\n",
    "plt.savefig(\"dMgfe_Feh_nonperf_rr.png\", dpi = 150, bbox_inches = 'tight')\n",
    "\n",
    "astd = []\n",
    "for i in range(0,len(stdevs)):\n",
    "    astd.append(np.average(stdevs[i]))\n",
    "    \n",
    "print(np.average(astd))"
   ]
  },
  {
   "cell_type": "code",
   "execution_count": 9,
   "metadata": {},
   "outputs": [],
   "source": [
    "import seaborn as sns"
   ]
  },
  {
   "cell_type": "code",
   "execution_count": 6,
   "metadata": {},
   "outputs": [
    {
     "data": {
      "image/png": "[encoded data removed]",
      "text/plain": [
       "<Figure size 720x720 with 1 Axes>"
      ]
     },
     "metadata": {},
     "output_type": "display_data"
    }
   ],
   "source": [
    "plt.figure(figsize =(10,10))\n",
    "plt.hist(np.max(ages[0]) - ages[0], bins = 1000)\n",
    "plt.show()"
   ]
  },
  {
   "cell_type": "code",
   "execution_count": 20,
   "metadata": {
    "scrolled": false
   },
   "outputs": [
    {
     "ename": "IndexError",
     "evalue": "list index out of range",
     "output_type": "error",
     "traceback": [
      "\u001b[1;31m---------------------------------------------------------------------------\u001b[0m",
      "\u001b[1;31mIndexError\u001b[0m                                Traceback (most recent call last)",
      "\u001b[1;32m<ipython-input-20-b04b1518e326>\u001b[0m in \u001b[0;36m<module>\u001b[1;34m()\u001b[0m\n\u001b[0;32m     10\u001b[0m \u001b[0mcolors\u001b[0m \u001b[1;33m=\u001b[0m \u001b[1;33m[\u001b[0m\u001b[1;34m'black'\u001b[0m\u001b[1;33m,\u001b[0m \u001b[1;34m'blue'\u001b[0m\u001b[1;33m,\u001b[0m \u001b[1;34m'green'\u001b[0m\u001b[1;33m,\u001b[0m \u001b[1;34m'red'\u001b[0m\u001b[1;33m,\u001b[0m \u001b[1;34m'orange'\u001b[0m\u001b[1;33m]\u001b[0m\u001b[1;33m\u001b[0m\u001b[0m\n\u001b[0;32m     11\u001b[0m \u001b[1;32mfor\u001b[0m \u001b[0mi\u001b[0m \u001b[1;32min\u001b[0m \u001b[0mrange\u001b[0m\u001b[1;33m(\u001b[0m\u001b[1;36m0\u001b[0m\u001b[1;33m,\u001b[0m\u001b[1;36m5\u001b[0m\u001b[1;33m)\u001b[0m\u001b[1;33m:\u001b[0m\u001b[1;33m\u001b[0m\u001b[0m\n\u001b[1;32m---> 12\u001b[1;33m     sns.kdeplot(fehscs2[i], bw = 1/290, label = str(ranges[i]) + ' kpc < R < ' + str(ranges[i+1]) + ' kpc',\n\u001b[0m\u001b[0;32m     13\u001b[0m             lw = 1.5, color = colors[i])\n\u001b[0;32m     14\u001b[0m     \u001b[1;31m#plt.xlim(-2.55, -0.85)\u001b[0m\u001b[1;33m\u001b[0m\u001b[1;33m\u001b[0m\u001b[0m\n",
      "\u001b[1;31mIndexError\u001b[0m: list index out of range"
     ]
    },
    {
     "data": {
      "image/png": "[encoded data removed]",
      "text/plain": [
       "<Figure size 576x360 with 1 Axes>"
      ]
     },
     "metadata": {},
     "output_type": "display_data"
    }
   ],
   "source": [
    "ranges = [0.0, 3, 7, 11, 15]\n",
    "\n",
    "indices2 = []\n",
    "fehscs2 = []\n",
    "for j in range(0,4):\n",
    "#    indices.append(np.where((R >= (rmin + (rmax*j))) & (R <= (rmax + (rmax*j))))) OLD ROUTINE\n",
    "    indices2.append(np.where((Rs[4] >= float(ranges[j])) & (Rs[4] <= float(ranges[j+1])))) # FOR DAVID\n",
    "    fehscs2.append(fehscs[4][indices2[j]]) #assigning the solar cylinders to the various indices\n",
    "\n",
    "plt.figure(figsize = (8,5))\n",
    "colors = ['black', 'blue', 'green', 'red', 'orange']\n",
    "for i in range(0,5):\n",
    "    sns.kdeplot(fehscs2[i], bw = 1/290, label = str(ranges[i]) + ' kpc < R < ' + str(ranges[i+1]) + ' kpc',\n",
    "            lw = 1.5, color = colors[i])\n",
    "    #plt.xlim(-2.55, -0.85)\n",
    "    plt.legend(loc = 2, fontsize = 12)\n",
    "    \n",
    "plt.xlabel(\"[Fe/H]\", size = 17)\n",
    "plt.ylabel(r\"N/N$^*_{total}$\", size = 18)\n",
    "plt.xticks(size = 15)\n",
    "plt.yticks(size = 15)\n",
    "plt.title(\"m11d MDF in Radial Bins\")\n",
    "\n",
    "plt.savefig(\"m11d\"+'curve_MDF.png', bbox_inches='tight')\n",
    "plt.savefig(\"m11d\"+'curve_MDF.pdf', bbox_inches='tight')\n",
    "\n",
    "plt.show()"
   ]
  },
  {
   "cell_type": "code",
   "execution_count": null,
   "metadata": {},
   "outputs": [],
   "source": []
  }
 ],
 "metadata": {
  "kernelspec": {
   "display_name": "Python 3 (ipykernel)",
   "language": "python",
   "name": "python3"
  },
  "language_info": {
   "codemirror_mode": {
    "name": "ipython",
    "version": 3
   },
   "file_extension": ".py",
   "mimetype": "text/x-python",
   "name": "python",
   "nbconvert_exporter": "python",
   "pygments_lexer": "ipython3",
   "version": "3.9.6"
  }
 },
 "nbformat": 4,
 "nbformat_minor": 2
}
